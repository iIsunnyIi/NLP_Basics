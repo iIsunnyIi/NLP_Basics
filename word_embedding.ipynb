{
  "nbformat": 4,
  "nbformat_minor": 0,
  "metadata": {
    "kernelspec": {
      "display_name": "Python 3",
      "language": "python",
      "name": "python3"
    },
    "language_info": {
      "codemirror_mode": {
        "name": "ipython",
        "version": 3
      },
      "file_extension": ".py",
      "mimetype": "text/x-python",
      "name": "python",
      "nbconvert_exporter": "python",
      "pygments_lexer": "ipython3",
      "version": "3.7.4"
    },
    "colab": {
      "name": "word_embedding.ipynb",
      "provenance": [],
      "include_colab_link": true
    }
  },
  "cells": [
    {
      "cell_type": "markdown",
      "metadata": {
        "id": "view-in-github",
        "colab_type": "text"
      },
      "source": [
        "<a href=\"https://colab.research.google.com/github/iIsunnyIi/NLP_Basics/blob/main/word_embedding.ipynb\" target=\"_parent\"><img src=\"https://colab.research.google.com/assets/colab-badge.svg\" alt=\"Open In Colab\"/></a>"
      ]
    },
    {
      "cell_type": "markdown",
      "metadata": {
        "id": "nLrZrih6N3-Y"
      },
      "source": [
        "### Word Embedding Techniques using Embedding Layer in Keras\r\n",
        "\r\n",
        "\r\n",
        "##### https://www.youtube.com/watch?v=TsXR7_vtusQ&ab_channel=KrishNaik\r\n",
        "##### https://machinelearningmastery.com/use-word-embedding-layers-deep-learning-keras/"
      ]
    },
    {
      "cell_type": "markdown",
      "metadata": {
        "id": "3CZWjA6skltV"
      },
      "source": [
        "\r\n",
        "\r\n",
        "1.   Sentences\r\n",
        "2.   one hot representation - index from the dictionary\r\n",
        "3.   one hot representation - embedding layer keras\r\n",
        "4.   From embedding Matrix\r\n",
        "5.   Vocab_SIZE = 10K, dimension 10\r\n",
        "6.  word representaion with embedding layers\r\n",
        "\r\n"
      ]
    },
    {
      "cell_type": "code",
      "metadata": {
        "id": "nTLwN_AvN3-s"
      },
      "source": [
        "### Libraries USed Tensorflow> 2.0  and keras\r\n",
        "### Tensorflow >2.0 we have Keras integrated with tensorflow\r\n",
        "### for tensorflow <2.0 we have to install tensorflow also and keras also and then we have to write the library like this \r\n",
        "#from keras.preprocessing.text import one_hot"
      ],
      "execution_count": null,
      "outputs": []
    },
    {
      "cell_type": "code",
      "metadata": {
        "id": "zCjNCpSFN3-v"
      },
      "source": [
        "#tensorflow >2.0 so we can use library like this\n",
        "#from tensorflow.keras.preprocessing.text import one_hot"
      ],
      "execution_count": null,
      "outputs": []
    },
    {
      "cell_type": "code",
      "metadata": {
        "id": "EF8tY5X2N3-w"
      },
      "source": [
        "### initialize the sentences\n",
        "sent=[  'the glass of milk',\n",
        "     'the glass of juice',\n",
        "     'the cup of tea',\n",
        "    'I am a good boy',\n",
        "     'I am a good developer',\n",
        "     'understand the meaning of words',\n",
        "     'your videos are good',]"
      ],
      "execution_count": 2,
      "outputs": []
    },
    {
      "cell_type": "code",
      "metadata": {
        "colab": {
          "base_uri": "https://localhost:8080/"
        },
        "id": "vp54ugzwN3-x",
        "outputId": "039d9d28-7585-4bb4-ce38-af7c0b1fdef2"
      },
      "source": [
        "sent"
      ],
      "execution_count": 3,
      "outputs": [
        {
          "output_type": "execute_result",
          "data": {
            "text/plain": [
              "['the glass of milk',\n",
              " 'the glass of juice',\n",
              " 'the cup of tea',\n",
              " 'I am a good boy',\n",
              " 'I am a good developer',\n",
              " 'understand the meaning of words',\n",
              " 'your videos are good']"
            ]
          },
          "metadata": {
            "tags": []
          },
          "execution_count": 3
        }
      ]
    },
    {
      "cell_type": "code",
      "metadata": {
        "id": "_AGoEgWeN3-1"
      },
      "source": [
        "### Vocabulary size: size of dictionary\n",
        "voc_size=10000"
      ],
      "execution_count": 4,
      "outputs": []
    },
    {
      "cell_type": "code",
      "metadata": {
        "id": "IxFSUXFNmb90"
      },
      "source": [
        "#now converting sentences into one hot reperesentation using library\r\n",
        "#tensorflow >2.0 so we can use library like this\r\n",
        "from tensorflow.keras.preprocessing.text import one_hot"
      ],
      "execution_count": 5,
      "outputs": []
    },
    {
      "cell_type": "markdown",
      "metadata": {
        "id": "Afchm6DqN3-2"
      },
      "source": [
        "#### One Hot Representation"
      ]
    },
    {
      "cell_type": "code",
      "metadata": {
        "colab": {
          "base_uri": "https://localhost:8080/"
        },
        "id": "q7ApOXx0N3-3",
        "outputId": "4022e144-b405-4b00-860c-8e667e21132e"
      },
      "source": [
        "#from sentences aprameters is words and vocab size and based on that it would provide you an index from dictionary\n",
        "onehot_repr=[one_hot(words,voc_size)for words in sent] \n",
        "print(onehot_repr)"
      ],
      "execution_count": 6,
      "outputs": [
        {
          "output_type": "stream",
          "text": [
            "[[7926, 4798, 6692, 7634], [7926, 4798, 6692, 7315], [7926, 7081, 6692, 7614], [2817, 2811, 1872, 4079, 8913], [2817, 2811, 1872, 4079, 9737], [9667, 7926, 7751, 6692, 8060], [1261, 4122, 4860, 4079]]\n"
          ],
          "name": "stdout"
        }
      ]
    },
    {
      "cell_type": "code",
      "metadata": {
        "id": "IhFCsC9-pCKS"
      },
      "source": [
        "#so here you can see that each word fo each sentences has index from vocab\r\n",
        "#the-5003   glass-760 ... liek that for each sentences out of 10k vocab size"
      ],
      "execution_count": null,
      "outputs": []
    },
    {
      "cell_type": "markdown",
      "metadata": {
        "id": "8-orfAXao_cl"
      },
      "source": [
        ""
      ]
    },
    {
      "cell_type": "markdown",
      "metadata": {
        "id": "JJpmGUbKN3-4"
      },
      "source": [
        "### Word Embedding Represntation"
      ]
    },
    {
      "cell_type": "code",
      "metadata": {
        "id": "NZX2I5DupudX"
      },
      "source": [
        "#now whatever indexes i got i am passing those to embedding layer in keras to form embedding matrix\r\n",
        "#important parameters is that how many dimensions i am giving or how many features i am giving\r\n",
        "#bcoz this one is feature representaion"
      ],
      "execution_count": null,
      "outputs": []
    },
    {
      "cell_type": "code",
      "metadata": {
        "id": "i-qDePqGqYDp"
      },
      "source": [
        "#import embedding layer\r\n",
        "#import sequential layer - to create sequence model wrt embedding layer\r\n",
        "#pad_sequences - whenever we have to pass anything to embedding layer all sentences should have the same number of words\r\n",
        "#for future implementation like in lstm or other size of sentences if same is good \r\n",
        "#in pad sequences parameters goes on are one hot represeantaion and what is padding technique \r\n",
        "#Padding technique\r\n",
        "  #in sentence 1 we have 4 words in sentence 5 we have 5 words\r\n",
        "  #now to make it word of same size \r\n",
        "  #first assign a maxm (sentences length) so that i can add padding on top of that\r\n",
        "  #let say 8 length \r\n",
        "  #using Padding 0 will be alloted to make it 8\r\n",
        "  #here using pre as padding .. so at atart 0 is added\r\n",
        "  #if post then at last\r\n",
        "  #each sentences converted to 8 length words with indexes\r\n",
        "  #now pass to embedding layer\r\n",
        "  \r\n",
        "\r\n"
      ],
      "execution_count": null,
      "outputs": []
    },
    {
      "cell_type": "code",
      "metadata": {
        "id": "JhXk35xoN3-5"
      },
      "source": [
        "from tensorflow.keras.layers import Embedding\n",
        "from tensorflow.keras.preprocessing.sequence import pad_sequences\n",
        "from tensorflow.keras.models import Sequential"
      ],
      "execution_count": 16,
      "outputs": []
    },
    {
      "cell_type": "code",
      "metadata": {
        "id": "SCVu3ejBN3-5"
      },
      "source": [
        "import numpy as np"
      ],
      "execution_count": 17,
      "outputs": []
    },
    {
      "cell_type": "code",
      "metadata": {
        "colab": {
          "base_uri": "https://localhost:8080/"
        },
        "id": "6Pd4PIp-N3-6",
        "outputId": "4fbe1542-4db2-44d3-a302-30228d5b7ffc"
      },
      "source": [
        "sent_length=8\n",
        "embedded_docs=pad_sequences(onehot_repr,padding='pre',maxlen=sent_length)\n",
        "print(embedded_docs)"
      ],
      "execution_count": 18,
      "outputs": [
        {
          "output_type": "stream",
          "text": [
            "[[   0    0    0    0 7926 4798 6692 7634]\n",
            " [   0    0    0    0 7926 4798 6692 7315]\n",
            " [   0    0    0    0 7926 7081 6692 7614]\n",
            " [   0    0    0 2817 2811 1872 4079 8913]\n",
            " [   0    0    0 2817 2811 1872 4079 9737]\n",
            " [   0    0    0 9667 7926 7751 6692 8060]\n",
            " [   0    0    0    0 1261 4122 4860 4079]]\n"
          ],
          "name": "stdout"
        }
      ]
    },
    {
      "cell_type": "code",
      "metadata": {
        "id": "1hcB7-VtN3-7"
      },
      "source": [
        "#now in order to pass to embedding layer we first have to assign a dimension \n",
        "#dimension means how many features here we are taking 10\n",
        "dim=10\n"
      ],
      "execution_count": 10,
      "outputs": []
    },
    {
      "cell_type": "code",
      "metadata": {
        "id": "KF7ZupCEN3-8"
      },
      "source": [
        "#initialize equential model\n",
        "#parameters (vocab size, dimension, sentence length)\n",
        "#compile with adam optimizer\n",
        "model=Sequential()\n",
        "model.add(Embedding(voc_size,10,input_length=sent_length))\n",
        "model.compile('adam','mse')"
      ],
      "execution_count": 19,
      "outputs": []
    },
    {
      "cell_type": "code",
      "metadata": {
        "colab": {
          "base_uri": "https://localhost:8080/"
        },
        "id": "xQJZI9czN3-9",
        "outputId": "c8eed348-52f3-4bc0-d763-15c98d3dd529"
      },
      "source": [
        "model.summary()"
      ],
      "execution_count": 20,
      "outputs": [
        {
          "output_type": "stream",
          "text": [
            "Model: \"sequential_1\"\n",
            "_________________________________________________________________\n",
            "Layer (type)                 Output Shape              Param #   \n",
            "=================================================================\n",
            "embedding_1 (Embedding)      (None, 8, 10)             100000    \n",
            "=================================================================\n",
            "Total params: 100,000\n",
            "Trainable params: 100,000\n",
            "Non-trainable params: 0\n",
            "_________________________________________________________________\n"
          ],
          "name": "stdout"
        }
      ]
    },
    {
      "cell_type": "code",
      "metadata": {
        "colab": {
          "base_uri": "https://localhost:8080/"
        },
        "id": "hiEInrEMN3-9",
        "outputId": "85d2c10d-13b2-4fde-cde8-513a2afdd1bb"
      },
      "source": [
        "#word into featurized vectors \r\n",
        "#10 dimension conversion of each sentences\r\n",
        "print(model.predict(embedded_docs))"
      ],
      "execution_count": 13,
      "outputs": [
        {
          "output_type": "stream",
          "text": [
            "[[[ 2.6779745e-02 -3.6237109e-02 -3.7982523e-02  2.7177159e-02\n",
            "    2.6360042e-03 -3.2112934e-02 -2.2621727e-02  1.1148464e-02\n",
            "    6.2575117e-03  3.0670080e-02]\n",
            "  [ 2.6779745e-02 -3.6237109e-02 -3.7982523e-02  2.7177159e-02\n",
            "    2.6360042e-03 -3.2112934e-02 -2.2621727e-02  1.1148464e-02\n",
            "    6.2575117e-03  3.0670080e-02]\n",
            "  [ 2.6779745e-02 -3.6237109e-02 -3.7982523e-02  2.7177159e-02\n",
            "    2.6360042e-03 -3.2112934e-02 -2.2621727e-02  1.1148464e-02\n",
            "    6.2575117e-03  3.0670080e-02]\n",
            "  [ 2.6779745e-02 -3.6237109e-02 -3.7982523e-02  2.7177159e-02\n",
            "    2.6360042e-03 -3.2112934e-02 -2.2621727e-02  1.1148464e-02\n",
            "    6.2575117e-03  3.0670080e-02]\n",
            "  [ 4.4261362e-02 -2.8888239e-02 -9.8617189e-03 -6.0929060e-03\n",
            "   -2.5643421e-02  3.0654561e-02  2.0648096e-02 -4.3946017e-02\n",
            "    2.3294818e-02  3.2361161e-02]\n",
            "  [-4.3376911e-02  4.0016625e-02  7.9385415e-03  1.9504432e-02\n",
            "    3.7369464e-02  2.5986481e-02  2.4765883e-02 -1.7104425e-02\n",
            "    1.4865588e-02  3.1580497e-02]\n",
            "  [ 3.8545836e-02 -4.7042537e-02 -8.0499873e-03  3.3582225e-03\n",
            "   -2.6554061e-02 -3.5152435e-02  2.6135769e-02 -3.2324575e-02\n",
            "    2.7754307e-03 -4.4811334e-02]\n",
            "  [-1.0520995e-02 -2.3989677e-02 -1.6731620e-03  2.7999505e-03\n",
            "   -1.6176544e-02  2.3172524e-02 -3.5397671e-02  4.7719788e-02\n",
            "   -5.9747808e-03  3.2432090e-02]]\n",
            "\n",
            " [[ 2.6779745e-02 -3.6237109e-02 -3.7982523e-02  2.7177159e-02\n",
            "    2.6360042e-03 -3.2112934e-02 -2.2621727e-02  1.1148464e-02\n",
            "    6.2575117e-03  3.0670080e-02]\n",
            "  [ 2.6779745e-02 -3.6237109e-02 -3.7982523e-02  2.7177159e-02\n",
            "    2.6360042e-03 -3.2112934e-02 -2.2621727e-02  1.1148464e-02\n",
            "    6.2575117e-03  3.0670080e-02]\n",
            "  [ 2.6779745e-02 -3.6237109e-02 -3.7982523e-02  2.7177159e-02\n",
            "    2.6360042e-03 -3.2112934e-02 -2.2621727e-02  1.1148464e-02\n",
            "    6.2575117e-03  3.0670080e-02]\n",
            "  [ 2.6779745e-02 -3.6237109e-02 -3.7982523e-02  2.7177159e-02\n",
            "    2.6360042e-03 -3.2112934e-02 -2.2621727e-02  1.1148464e-02\n",
            "    6.2575117e-03  3.0670080e-02]\n",
            "  [ 4.4261362e-02 -2.8888239e-02 -9.8617189e-03 -6.0929060e-03\n",
            "   -2.5643421e-02  3.0654561e-02  2.0648096e-02 -4.3946017e-02\n",
            "    2.3294818e-02  3.2361161e-02]\n",
            "  [-4.3376911e-02  4.0016625e-02  7.9385415e-03  1.9504432e-02\n",
            "    3.7369464e-02  2.5986481e-02  2.4765883e-02 -1.7104425e-02\n",
            "    1.4865588e-02  3.1580497e-02]\n",
            "  [ 3.8545836e-02 -4.7042537e-02 -8.0499873e-03  3.3582225e-03\n",
            "   -2.6554061e-02 -3.5152435e-02  2.6135769e-02 -3.2324575e-02\n",
            "    2.7754307e-03 -4.4811334e-02]\n",
            "  [ 4.4964179e-03 -1.7445147e-02  4.5090232e-02 -1.3809741e-02\n",
            "    3.1485330e-02 -1.0005154e-02  4.6049539e-02 -4.7797784e-03\n",
            "   -4.2805504e-02  4.5405593e-02]]\n",
            "\n",
            " [[ 2.6779745e-02 -3.6237109e-02 -3.7982523e-02  2.7177159e-02\n",
            "    2.6360042e-03 -3.2112934e-02 -2.2621727e-02  1.1148464e-02\n",
            "    6.2575117e-03  3.0670080e-02]\n",
            "  [ 2.6779745e-02 -3.6237109e-02 -3.7982523e-02  2.7177159e-02\n",
            "    2.6360042e-03 -3.2112934e-02 -2.2621727e-02  1.1148464e-02\n",
            "    6.2575117e-03  3.0670080e-02]\n",
            "  [ 2.6779745e-02 -3.6237109e-02 -3.7982523e-02  2.7177159e-02\n",
            "    2.6360042e-03 -3.2112934e-02 -2.2621727e-02  1.1148464e-02\n",
            "    6.2575117e-03  3.0670080e-02]\n",
            "  [ 2.6779745e-02 -3.6237109e-02 -3.7982523e-02  2.7177159e-02\n",
            "    2.6360042e-03 -3.2112934e-02 -2.2621727e-02  1.1148464e-02\n",
            "    6.2575117e-03  3.0670080e-02]\n",
            "  [ 4.4261362e-02 -2.8888239e-02 -9.8617189e-03 -6.0929060e-03\n",
            "   -2.5643421e-02  3.0654561e-02  2.0648096e-02 -4.3946017e-02\n",
            "    2.3294818e-02  3.2361161e-02]\n",
            "  [ 1.0828365e-02  5.3943023e-03 -2.5797635e-05  1.9464601e-02\n",
            "   -3.8479641e-04  4.5530088e-03 -9.3365088e-03 -2.6619434e-02\n",
            "    2.8937820e-02 -2.2282088e-02]\n",
            "  [ 3.8545836e-02 -4.7042537e-02 -8.0499873e-03  3.3582225e-03\n",
            "   -2.6554061e-02 -3.5152435e-02  2.6135769e-02 -3.2324575e-02\n",
            "    2.7754307e-03 -4.4811334e-02]\n",
            "  [-2.8301908e-02  1.2947094e-02  2.3970511e-02  4.1140590e-02\n",
            "    2.0174745e-02  2.4444532e-02 -9.9504814e-03  3.7793849e-02\n",
            "   -2.7716054e-02  1.2550507e-02]]\n",
            "\n",
            " [[ 2.6779745e-02 -3.6237109e-02 -3.7982523e-02  2.7177159e-02\n",
            "    2.6360042e-03 -3.2112934e-02 -2.2621727e-02  1.1148464e-02\n",
            "    6.2575117e-03  3.0670080e-02]\n",
            "  [ 2.6779745e-02 -3.6237109e-02 -3.7982523e-02  2.7177159e-02\n",
            "    2.6360042e-03 -3.2112934e-02 -2.2621727e-02  1.1148464e-02\n",
            "    6.2575117e-03  3.0670080e-02]\n",
            "  [ 2.6779745e-02 -3.6237109e-02 -3.7982523e-02  2.7177159e-02\n",
            "    2.6360042e-03 -3.2112934e-02 -2.2621727e-02  1.1148464e-02\n",
            "    6.2575117e-03  3.0670080e-02]\n",
            "  [-3.1548560e-02 -3.6273457e-02  1.0490917e-02  4.8586074e-02\n",
            "    6.9971308e-03  4.4348542e-02  2.5008116e-02  1.3143647e-02\n",
            "    4.0783320e-02 -7.7939741e-03]\n",
            "  [-8.7813139e-03 -1.7860997e-02 -2.5718773e-02 -1.2117542e-02\n",
            "    1.3902817e-02  4.6987902e-02 -2.8470779e-02 -3.6816299e-02\n",
            "    1.9461785e-02 -3.3948053e-02]\n",
            "  [ 1.1024892e-02 -1.6096842e-02  2.8908733e-02 -3.3908594e-02\n",
            "    4.7307126e-03 -3.1512357e-02 -4.4062402e-02 -4.1762721e-02\n",
            "    9.4982386e-03 -2.7041161e-02]\n",
            "  [-2.4618937e-02 -1.4282353e-03 -3.3132806e-02 -3.1524189e-03\n",
            "   -2.2044217e-02 -3.7940133e-02 -4.7166552e-02 -1.9856835e-02\n",
            "   -7.7593923e-03 -1.4951099e-02]\n",
            "  [-3.8954057e-02 -1.0621775e-02 -2.8232133e-02  4.4466589e-02\n",
            "    2.0713452e-02  3.0391980e-02 -3.0360019e-02 -3.0937089e-02\n",
            "    1.1230696e-02 -8.0940127e-03]]\n",
            "\n",
            " [[ 2.6779745e-02 -3.6237109e-02 -3.7982523e-02  2.7177159e-02\n",
            "    2.6360042e-03 -3.2112934e-02 -2.2621727e-02  1.1148464e-02\n",
            "    6.2575117e-03  3.0670080e-02]\n",
            "  [ 2.6779745e-02 -3.6237109e-02 -3.7982523e-02  2.7177159e-02\n",
            "    2.6360042e-03 -3.2112934e-02 -2.2621727e-02  1.1148464e-02\n",
            "    6.2575117e-03  3.0670080e-02]\n",
            "  [ 2.6779745e-02 -3.6237109e-02 -3.7982523e-02  2.7177159e-02\n",
            "    2.6360042e-03 -3.2112934e-02 -2.2621727e-02  1.1148464e-02\n",
            "    6.2575117e-03  3.0670080e-02]\n",
            "  [-3.1548560e-02 -3.6273457e-02  1.0490917e-02  4.8586074e-02\n",
            "    6.9971308e-03  4.4348542e-02  2.5008116e-02  1.3143647e-02\n",
            "    4.0783320e-02 -7.7939741e-03]\n",
            "  [-8.7813139e-03 -1.7860997e-02 -2.5718773e-02 -1.2117542e-02\n",
            "    1.3902817e-02  4.6987902e-02 -2.8470779e-02 -3.6816299e-02\n",
            "    1.9461785e-02 -3.3948053e-02]\n",
            "  [ 1.1024892e-02 -1.6096842e-02  2.8908733e-02 -3.3908594e-02\n",
            "    4.7307126e-03 -3.1512357e-02 -4.4062402e-02 -4.1762721e-02\n",
            "    9.4982386e-03 -2.7041161e-02]\n",
            "  [-2.4618937e-02 -1.4282353e-03 -3.3132806e-02 -3.1524189e-03\n",
            "   -2.2044217e-02 -3.7940133e-02 -4.7166552e-02 -1.9856835e-02\n",
            "   -7.7593923e-03 -1.4951099e-02]\n",
            "  [-3.7603602e-03 -3.4913003e-02  4.4014230e-03  3.5672393e-02\n",
            "    2.8864387e-02  4.3421198e-02 -4.7123816e-02 -2.5807155e-02\n",
            "    3.1663779e-02 -3.9366663e-02]]\n",
            "\n",
            " [[ 2.6779745e-02 -3.6237109e-02 -3.7982523e-02  2.7177159e-02\n",
            "    2.6360042e-03 -3.2112934e-02 -2.2621727e-02  1.1148464e-02\n",
            "    6.2575117e-03  3.0670080e-02]\n",
            "  [ 2.6779745e-02 -3.6237109e-02 -3.7982523e-02  2.7177159e-02\n",
            "    2.6360042e-03 -3.2112934e-02 -2.2621727e-02  1.1148464e-02\n",
            "    6.2575117e-03  3.0670080e-02]\n",
            "  [ 2.6779745e-02 -3.6237109e-02 -3.7982523e-02  2.7177159e-02\n",
            "    2.6360042e-03 -3.2112934e-02 -2.2621727e-02  1.1148464e-02\n",
            "    6.2575117e-03  3.0670080e-02]\n",
            "  [-1.9051516e-02 -3.5828449e-02  3.9445672e-02 -2.1038890e-02\n",
            "   -3.3985078e-02 -3.7176512e-02 -1.7221607e-02  4.7941614e-02\n",
            "    4.8003681e-03 -1.5114509e-02]\n",
            "  [ 4.4261362e-02 -2.8888239e-02 -9.8617189e-03 -6.0929060e-03\n",
            "   -2.5643421e-02  3.0654561e-02  2.0648096e-02 -4.3946017e-02\n",
            "    2.3294818e-02  3.2361161e-02]\n",
            "  [-3.5602212e-02  3.1620238e-02 -1.7702483e-02 -1.4462955e-03\n",
            "    6.8332925e-03  1.5663039e-02  7.8971162e-03  3.4086112e-02\n",
            "    1.7753951e-03 -4.8133552e-02]\n",
            "  [ 3.8545836e-02 -4.7042537e-02 -8.0499873e-03  3.3582225e-03\n",
            "   -2.6554061e-02 -3.5152435e-02  2.6135769e-02 -3.2324575e-02\n",
            "    2.7754307e-03 -4.4811334e-02]\n",
            "  [ 2.1155585e-02  2.8641447e-03 -1.9125355e-02  5.8649667e-03\n",
            "   -4.5717727e-02  2.3602236e-02  1.9490544e-02  1.5868496e-02\n",
            "    3.3403311e-02  2.0294439e-02]]\n",
            "\n",
            " [[ 2.6779745e-02 -3.6237109e-02 -3.7982523e-02  2.7177159e-02\n",
            "    2.6360042e-03 -3.2112934e-02 -2.2621727e-02  1.1148464e-02\n",
            "    6.2575117e-03  3.0670080e-02]\n",
            "  [ 2.6779745e-02 -3.6237109e-02 -3.7982523e-02  2.7177159e-02\n",
            "    2.6360042e-03 -3.2112934e-02 -2.2621727e-02  1.1148464e-02\n",
            "    6.2575117e-03  3.0670080e-02]\n",
            "  [ 2.6779745e-02 -3.6237109e-02 -3.7982523e-02  2.7177159e-02\n",
            "    2.6360042e-03 -3.2112934e-02 -2.2621727e-02  1.1148464e-02\n",
            "    6.2575117e-03  3.0670080e-02]\n",
            "  [ 2.6779745e-02 -3.6237109e-02 -3.7982523e-02  2.7177159e-02\n",
            "    2.6360042e-03 -3.2112934e-02 -2.2621727e-02  1.1148464e-02\n",
            "    6.2575117e-03  3.0670080e-02]\n",
            "  [-4.8457086e-02  1.0756694e-02  1.4280383e-02 -3.2887448e-02\n",
            "   -2.6796088e-03  2.0707611e-02  1.0626353e-02  9.2718378e-03\n",
            "   -4.9966644e-02 -1.7863940e-02]\n",
            "  [-2.8462304e-02  4.2726174e-03  8.3367713e-03  4.2416099e-02\n",
            "   -4.1312039e-02  3.7673403e-02 -2.4221838e-05  6.6257603e-03\n",
            "    2.4847481e-02 -2.1580493e-02]\n",
            "  [-4.6084344e-02 -2.5035465e-02 -4.7379661e-02 -1.5388656e-02\n",
            "    1.0228656e-02 -1.1679281e-02 -4.7170915e-02 -4.7529627e-02\n",
            "    1.8552069e-02 -4.7665801e-02]\n",
            "  [-2.4618937e-02 -1.4282353e-03 -3.3132806e-02 -3.1524189e-03\n",
            "   -2.2044217e-02 -3.7940133e-02 -4.7166552e-02 -1.9856835e-02\n",
            "   -7.7593923e-03 -1.4951099e-02]]]\n"
          ],
          "name": "stdout"
        }
      ]
    },
    {
      "cell_type": "code",
      "metadata": {
        "colab": {
          "base_uri": "https://localhost:8080/"
        },
        "id": "MERdlQwKN3--",
        "outputId": "54a75ba8-cd84-410b-f3eb-ddbbc8da7088"
      },
      "source": [
        "embedded_docs[0]"
      ],
      "execution_count": 21,
      "outputs": [
        {
          "output_type": "execute_result",
          "data": {
            "text/plain": [
              "array([   0,    0,    0,    0, 7926, 4798, 6692, 7634], dtype=int32)"
            ]
          },
          "metadata": {
            "tags": []
          },
          "execution_count": 21
        }
      ]
    },
    {
      "cell_type": "code",
      "metadata": {
        "colab": {
          "base_uri": "https://localhost:8080/"
        },
        "id": "lb5E1jkpN3-_",
        "outputId": "2ea86058-a18f-4ed4-f4a5-27e4d206cc0b"
      },
      "source": [
        "print(model.predict(embedded_docs)[0])\r\n",
        "#10 dimension conversion of each sentences\r\n",
        "#first 4 same value bcoz wer have 0 "
      ],
      "execution_count": 22,
      "outputs": [
        {
          "output_type": "stream",
          "text": [
            "[[-0.04997096  0.01332024  0.01676859 -0.00822473 -0.01295588  0.00046054\n",
            "  -0.04379522  0.04422232  0.02976556  0.04102678]\n",
            " [-0.04997096  0.01332024  0.01676859 -0.00822473 -0.01295588  0.00046054\n",
            "  -0.04379522  0.04422232  0.02976556  0.04102678]\n",
            " [-0.04997096  0.01332024  0.01676859 -0.00822473 -0.01295588  0.00046054\n",
            "  -0.04379522  0.04422232  0.02976556  0.04102678]\n",
            " [-0.04997096  0.01332024  0.01676859 -0.00822473 -0.01295588  0.00046054\n",
            "  -0.04379522  0.04422232  0.02976556  0.04102678]\n",
            " [-0.04528862  0.02452708  0.01112555 -0.03473718  0.04159046  0.01412637\n",
            "  -0.02361286 -0.03427856 -0.04098445 -0.01012953]\n",
            " [ 0.01505646 -0.0192825   0.0286851   0.01308825 -0.04423837  0.0467946\n",
            "  -0.03372793  0.00876451  0.02818655 -0.01043538]\n",
            " [-0.03352956  0.00681413  0.01862431  0.00162737 -0.04799864  0.00069821\n",
            "  -0.00953463 -0.04716245  0.02016294  0.00728548]\n",
            " [-0.01200349 -0.00850051  0.01342912  0.02234242 -0.04580361  0.03908483\n",
            "   0.04083658  0.0130605   0.03794545  0.04992094]]\n"
          ],
          "name": "stdout"
        }
      ]
    },
    {
      "cell_type": "code",
      "metadata": {
        "id": "RI0ECx6rN3_A"
      },
      "source": [
        ""
      ],
      "execution_count": null,
      "outputs": []
    }
  ]
}